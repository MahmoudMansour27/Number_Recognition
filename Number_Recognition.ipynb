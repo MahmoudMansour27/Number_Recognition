{
  "nbformat": 4,
  "nbformat_minor": 0,
  "metadata": {
    "colab": {
      "provenance": [],
      "gpuType": "T4"
    },
    "kernelspec": {
      "name": "python3",
      "display_name": "Python 3"
    },
    "language_info": {
      "name": "python"
    },
    "accelerator": "GPU"
  },
  "cells": [
    {
      "cell_type": "markdown",
      "source": [
        "# Import Libraries and Dataset Loading"
      ],
      "metadata": {
        "id": "Q3OBwvWcn3cv"
      }
    },
    {
      "cell_type": "code",
      "execution_count": null,
      "metadata": {
        "id": "ObyPyGPEmwE2"
      },
      "outputs": [],
      "source": [
        "import keras\n",
        "from keras.datasets import mnist\n",
        "from keras.models import Sequential\n",
        "from keras.layers import Dense, Dropout, Flatten\n",
        "from keras.layers import Conv2D, MaxPooling2D\n",
        "from keras import backend as k"
      ]
    },
    {
      "cell_type": "code",
      "source": [
        "(X_train, y_train), (X_test, y_test) = mnist.load_data()"
      ],
      "metadata": {
        "id": "BRGRLh0corFo",
        "colab": {
          "base_uri": "https://localhost:8080/"
        },
        "outputId": "967847ce-22ba-4ad4-9370-b625423978cd"
      },
      "execution_count": null,
      "outputs": [
        {
          "output_type": "stream",
          "name": "stdout",
          "text": [
            "Downloading data from https://storage.googleapis.com/tensorflow/tf-keras-datasets/mnist.npz\n",
            "11490434/11490434 [==============================] - 0s 0us/step\n"
          ]
        }
      ]
    },
    {
      "cell_type": "code",
      "source": [
        "X_train"
      ],
      "metadata": {
        "colab": {
          "base_uri": "https://localhost:8080/"
        },
        "id": "ApRrWCW1o8D3",
        "outputId": "e0d7cd9d-eb9f-47e7-d043-f13fb7430e3c"
      },
      "execution_count": null,
      "outputs": [
        {
          "output_type": "execute_result",
          "data": {
            "text/plain": [
              "array([[[0, 0, 0, ..., 0, 0, 0],\n",
              "        [0, 0, 0, ..., 0, 0, 0],\n",
              "        [0, 0, 0, ..., 0, 0, 0],\n",
              "        ...,\n",
              "        [0, 0, 0, ..., 0, 0, 0],\n",
              "        [0, 0, 0, ..., 0, 0, 0],\n",
              "        [0, 0, 0, ..., 0, 0, 0]],\n",
              "\n",
              "       [[0, 0, 0, ..., 0, 0, 0],\n",
              "        [0, 0, 0, ..., 0, 0, 0],\n",
              "        [0, 0, 0, ..., 0, 0, 0],\n",
              "        ...,\n",
              "        [0, 0, 0, ..., 0, 0, 0],\n",
              "        [0, 0, 0, ..., 0, 0, 0],\n",
              "        [0, 0, 0, ..., 0, 0, 0]],\n",
              "\n",
              "       [[0, 0, 0, ..., 0, 0, 0],\n",
              "        [0, 0, 0, ..., 0, 0, 0],\n",
              "        [0, 0, 0, ..., 0, 0, 0],\n",
              "        ...,\n",
              "        [0, 0, 0, ..., 0, 0, 0],\n",
              "        [0, 0, 0, ..., 0, 0, 0],\n",
              "        [0, 0, 0, ..., 0, 0, 0]],\n",
              "\n",
              "       ...,\n",
              "\n",
              "       [[0, 0, 0, ..., 0, 0, 0],\n",
              "        [0, 0, 0, ..., 0, 0, 0],\n",
              "        [0, 0, 0, ..., 0, 0, 0],\n",
              "        ...,\n",
              "        [0, 0, 0, ..., 0, 0, 0],\n",
              "        [0, 0, 0, ..., 0, 0, 0],\n",
              "        [0, 0, 0, ..., 0, 0, 0]],\n",
              "\n",
              "       [[0, 0, 0, ..., 0, 0, 0],\n",
              "        [0, 0, 0, ..., 0, 0, 0],\n",
              "        [0, 0, 0, ..., 0, 0, 0],\n",
              "        ...,\n",
              "        [0, 0, 0, ..., 0, 0, 0],\n",
              "        [0, 0, 0, ..., 0, 0, 0],\n",
              "        [0, 0, 0, ..., 0, 0, 0]],\n",
              "\n",
              "       [[0, 0, 0, ..., 0, 0, 0],\n",
              "        [0, 0, 0, ..., 0, 0, 0],\n",
              "        [0, 0, 0, ..., 0, 0, 0],\n",
              "        ...,\n",
              "        [0, 0, 0, ..., 0, 0, 0],\n",
              "        [0, 0, 0, ..., 0, 0, 0],\n",
              "        [0, 0, 0, ..., 0, 0, 0]]], dtype=uint8)"
            ]
          },
          "metadata": {},
          "execution_count": 4
        }
      ]
    },
    {
      "cell_type": "code",
      "source": [
        "y_train"
      ],
      "metadata": {
        "colab": {
          "base_uri": "https://localhost:8080/"
        },
        "id": "dLppWnxTo_1a",
        "outputId": "8db329a6-f9d2-4bb1-9b6c-37dbffa4db92"
      },
      "execution_count": null,
      "outputs": [
        {
          "output_type": "execute_result",
          "data": {
            "text/plain": [
              "array([5, 0, 4, ..., 5, 6, 8], dtype=uint8)"
            ]
          },
          "metadata": {},
          "execution_count": 5
        }
      ]
    },
    {
      "cell_type": "code",
      "source": [
        "print(\"X_train shape: \", X_train.shape)\n",
        "print(\"y_train shape: \", y_train.shape)"
      ],
      "metadata": {
        "colab": {
          "base_uri": "https://localhost:8080/"
        },
        "id": "hlGIympOpKSR",
        "outputId": "5e2bbcdf-57aa-4ab6-aa1f-03f651bdfa54"
      },
      "execution_count": null,
      "outputs": [
        {
          "output_type": "stream",
          "name": "stdout",
          "text": [
            "X_train shape:  (60000, 28, 28)\n",
            "y_train shape:  (60000,)\n"
          ]
        }
      ]
    },
    {
      "cell_type": "markdown",
      "source": [
        "# Data Preprocessing"
      ],
      "metadata": {
        "id": "XXs25b1qpel5"
      }
    },
    {
      "cell_type": "code",
      "source": [
        "X_train = X_train.reshape(X_train.shape[0], 28, 28, 1)\n",
        "X_test = X_test.reshape(X_test.shape[0], 28, 28, 1)\n",
        "\n",
        "# class vector to binary class vector\n",
        "y_train = keras.utils.to_categorical(y_train, num_classes = 10)\n",
        "y_test = keras.utils.to_categorical(y_test, num_classes = 10)\n"
      ],
      "metadata": {
        "id": "9zV-0BeKpVHr"
      },
      "execution_count": null,
      "outputs": []
    },
    {
      "cell_type": "code",
      "source": [
        "y_train"
      ],
      "metadata": {
        "id": "I4e-B4R6qsqk",
        "colab": {
          "base_uri": "https://localhost:8080/"
        },
        "outputId": "99d8c636-9259-4293-d45e-d1240a318c34"
      },
      "execution_count": null,
      "outputs": [
        {
          "output_type": "execute_result",
          "data": {
            "text/plain": [
              "array([[0., 0., 0., ..., 0., 0., 0.],\n",
              "       [1., 0., 0., ..., 0., 0., 0.],\n",
              "       [0., 0., 0., ..., 0., 0., 0.],\n",
              "       ...,\n",
              "       [0., 0., 0., ..., 0., 0., 0.],\n",
              "       [0., 0., 0., ..., 0., 0., 0.],\n",
              "       [0., 0., 0., ..., 0., 1., 0.]], dtype=float32)"
            ]
          },
          "metadata": {},
          "execution_count": 8
        }
      ]
    },
    {
      "cell_type": "code",
      "source": [
        "X_train = X_train.astype('float32')\n",
        "X_test = X_test.astype('float32')\n",
        "X_train /= 255\n",
        "X_test /= 255\n",
        "print('X train set shape: ', X_train.shape)\n",
        "print(X_train.shape[0], ' training sample')\n",
        "print(X_test.shape[0], ' training sample')"
      ],
      "metadata": {
        "colab": {
          "base_uri": "https://localhost:8080/"
        },
        "id": "G_afaGF8sjYC",
        "outputId": "3516da28-c4c8-4889-dd43-badb83f5db71"
      },
      "execution_count": null,
      "outputs": [
        {
          "output_type": "stream",
          "name": "stdout",
          "text": [
            "X train set shape:  (60000, 28, 28, 1)\n",
            "60000  training sample\n",
            "10000  training sample\n"
          ]
        }
      ]
    },
    {
      "cell_type": "markdown",
      "source": [
        "# Creating CNN model"
      ],
      "metadata": {
        "id": "AaZEExVktq1r"
      }
    },
    {
      "cell_type": "code",
      "source": [
        "input_shape = (28, 28, 1)\n",
        "\n",
        "model = Sequential()\n",
        "model.add(Conv2D(32, kernel_size=(3,3), activation='relu', input_shape=input_shape))\n",
        "model.add(Conv2D(64, (3,3), activation='relu'))\n",
        "model.add(MaxPooling2D(pool_size = (2,2)))\n",
        "model.add(Dropout(0.25))\n",
        "model.add(Flatten())\n",
        "model.add(Dense(256, activation='relu'))\n",
        "model.add(Dropout(0.5))\n",
        "model.add(Dense(10, activation='softmax'))"
      ],
      "metadata": {
        "id": "tYEPRyhJs2mz"
      },
      "execution_count": null,
      "outputs": []
    },
    {
      "cell_type": "code",
      "source": [
        "model.compile(loss=keras.losses.categorical_crossentropy,\n",
        "              optimizer = 'adam', metrics = ['accuracy'])"
      ],
      "metadata": {
        "id": "xhH85TKeu-IM"
      },
      "execution_count": null,
      "outputs": []
    },
    {
      "cell_type": "markdown",
      "source": [
        "# Model Training"
      ],
      "metadata": {
        "id": "epPHwLGmv5Kf"
      }
    },
    {
      "cell_type": "code",
      "source": [
        "batch_size = 128\n",
        "num_classes = 10\n",
        "epochs = 50\n",
        "\n",
        "model.fit(X_train, y_train, batch_size= batch_size, epochs= epochs, verbose= 1,\n",
        "          validation_data=(X_test, y_test))"
      ],
      "metadata": {
        "colab": {
          "base_uri": "https://localhost:8080/"
        },
        "id": "O4X5pMPjvziA",
        "outputId": "7f4d870c-dcfb-44b1-f9fc-c1d966945394"
      },
      "execution_count": null,
      "outputs": [
        {
          "output_type": "stream",
          "name": "stdout",
          "text": [
            "Epoch 1/50\n",
            "469/469 [==============================] - 17s 11ms/step - loss: 0.1964 - accuracy: 0.9398 - val_loss: 0.0431 - val_accuracy: 0.9858\n",
            "Epoch 2/50\n",
            "469/469 [==============================] - 5s 10ms/step - loss: 0.0666 - accuracy: 0.9802 - val_loss: 0.0327 - val_accuracy: 0.9889\n",
            "Epoch 3/50\n",
            "469/469 [==============================] - 5s 10ms/step - loss: 0.0497 - accuracy: 0.9844 - val_loss: 0.0310 - val_accuracy: 0.9891\n",
            "Epoch 4/50\n",
            "469/469 [==============================] - 5s 11ms/step - loss: 0.0388 - accuracy: 0.9879 - val_loss: 0.0284 - val_accuracy: 0.9908\n",
            "Epoch 5/50\n",
            "469/469 [==============================] - 5s 11ms/step - loss: 0.0334 - accuracy: 0.9894 - val_loss: 0.0309 - val_accuracy: 0.9904\n",
            "Epoch 6/50\n",
            "469/469 [==============================] - 5s 10ms/step - loss: 0.0279 - accuracy: 0.9913 - val_loss: 0.0279 - val_accuracy: 0.9921\n",
            "Epoch 7/50\n",
            "469/469 [==============================] - 5s 10ms/step - loss: 0.0229 - accuracy: 0.9925 - val_loss: 0.0267 - val_accuracy: 0.9922\n",
            "Epoch 8/50\n",
            "469/469 [==============================] - 5s 10ms/step - loss: 0.0216 - accuracy: 0.9927 - val_loss: 0.0284 - val_accuracy: 0.9922\n",
            "Epoch 9/50\n",
            "469/469 [==============================] - 5s 10ms/step - loss: 0.0196 - accuracy: 0.9934 - val_loss: 0.0254 - val_accuracy: 0.9937\n",
            "Epoch 10/50\n",
            "469/469 [==============================] - 5s 11ms/step - loss: 0.0178 - accuracy: 0.9942 - val_loss: 0.0348 - val_accuracy: 0.9906\n",
            "Epoch 11/50\n",
            "469/469 [==============================] - 5s 10ms/step - loss: 0.0164 - accuracy: 0.9944 - val_loss: 0.0296 - val_accuracy: 0.9926\n",
            "Epoch 12/50\n",
            "469/469 [==============================] - 5s 10ms/step - loss: 0.0143 - accuracy: 0.9952 - val_loss: 0.0311 - val_accuracy: 0.9917\n",
            "Epoch 13/50\n",
            "469/469 [==============================] - 4s 9ms/step - loss: 0.0142 - accuracy: 0.9951 - val_loss: 0.0305 - val_accuracy: 0.9920\n",
            "Epoch 14/50\n",
            "469/469 [==============================] - 5s 10ms/step - loss: 0.0127 - accuracy: 0.9958 - val_loss: 0.0268 - val_accuracy: 0.9935\n",
            "Epoch 15/50\n",
            "469/469 [==============================] - 5s 10ms/step - loss: 0.0122 - accuracy: 0.9961 - val_loss: 0.0318 - val_accuracy: 0.9918\n",
            "Epoch 16/50\n",
            "469/469 [==============================] - 5s 10ms/step - loss: 0.0105 - accuracy: 0.9964 - val_loss: 0.0339 - val_accuracy: 0.9924\n",
            "Epoch 17/50\n",
            "469/469 [==============================] - 5s 10ms/step - loss: 0.0110 - accuracy: 0.9962 - val_loss: 0.0300 - val_accuracy: 0.9925\n",
            "Epoch 18/50\n",
            "469/469 [==============================] - 4s 10ms/step - loss: 0.0094 - accuracy: 0.9968 - val_loss: 0.0278 - val_accuracy: 0.9926\n",
            "Epoch 19/50\n",
            "469/469 [==============================] - 4s 9ms/step - loss: 0.0095 - accuracy: 0.9969 - val_loss: 0.0266 - val_accuracy: 0.9938\n",
            "Epoch 20/50\n",
            "469/469 [==============================] - 5s 10ms/step - loss: 0.0085 - accuracy: 0.9972 - val_loss: 0.0317 - val_accuracy: 0.9917\n",
            "Epoch 21/50\n",
            "469/469 [==============================] - 4s 10ms/step - loss: 0.0090 - accuracy: 0.9969 - val_loss: 0.0313 - val_accuracy: 0.9925\n",
            "Epoch 22/50\n",
            "469/469 [==============================] - 4s 9ms/step - loss: 0.0092 - accuracy: 0.9967 - val_loss: 0.0338 - val_accuracy: 0.9921\n",
            "Epoch 23/50\n",
            "469/469 [==============================] - 5s 10ms/step - loss: 0.0084 - accuracy: 0.9971 - val_loss: 0.0309 - val_accuracy: 0.9926\n",
            "Epoch 24/50\n",
            "469/469 [==============================] - 4s 9ms/step - loss: 0.0089 - accuracy: 0.9969 - val_loss: 0.0270 - val_accuracy: 0.9924\n",
            "Epoch 25/50\n",
            "469/469 [==============================] - 5s 10ms/step - loss: 0.0066 - accuracy: 0.9979 - val_loss: 0.0326 - val_accuracy: 0.9925\n",
            "Epoch 26/50\n",
            "469/469 [==============================] - 5s 10ms/step - loss: 0.0077 - accuracy: 0.9975 - val_loss: 0.0359 - val_accuracy: 0.9919\n",
            "Epoch 27/50\n",
            "469/469 [==============================] - 4s 9ms/step - loss: 0.0061 - accuracy: 0.9980 - val_loss: 0.0319 - val_accuracy: 0.9930\n",
            "Epoch 28/50\n",
            "469/469 [==============================] - 5s 10ms/step - loss: 0.0064 - accuracy: 0.9979 - val_loss: 0.0316 - val_accuracy: 0.9925\n",
            "Epoch 29/50\n",
            "469/469 [==============================] - 4s 10ms/step - loss: 0.0075 - accuracy: 0.9975 - val_loss: 0.0344 - val_accuracy: 0.9928\n",
            "Epoch 30/50\n",
            "469/469 [==============================] - 4s 9ms/step - loss: 0.0055 - accuracy: 0.9980 - val_loss: 0.0332 - val_accuracy: 0.9922\n",
            "Epoch 31/50\n",
            "469/469 [==============================] - 5s 10ms/step - loss: 0.0068 - accuracy: 0.9978 - val_loss: 0.0385 - val_accuracy: 0.9925\n",
            "Epoch 32/50\n",
            "469/469 [==============================] - 4s 9ms/step - loss: 0.0072 - accuracy: 0.9976 - val_loss: 0.0377 - val_accuracy: 0.9917\n",
            "Epoch 33/50\n",
            "469/469 [==============================] - 4s 10ms/step - loss: 0.0053 - accuracy: 0.9983 - val_loss: 0.0373 - val_accuracy: 0.9937\n",
            "Epoch 34/50\n",
            "469/469 [==============================] - 5s 10ms/step - loss: 0.0047 - accuracy: 0.9984 - val_loss: 0.0410 - val_accuracy: 0.9926\n",
            "Epoch 35/50\n",
            "469/469 [==============================] - 4s 10ms/step - loss: 0.0064 - accuracy: 0.9978 - val_loss: 0.0371 - val_accuracy: 0.9929\n",
            "Epoch 36/50\n",
            "469/469 [==============================] - 5s 10ms/step - loss: 0.0063 - accuracy: 0.9980 - val_loss: 0.0349 - val_accuracy: 0.9934\n",
            "Epoch 37/50\n",
            "469/469 [==============================] - 4s 10ms/step - loss: 0.0054 - accuracy: 0.9981 - val_loss: 0.0360 - val_accuracy: 0.9931\n",
            "Epoch 38/50\n",
            "469/469 [==============================] - 4s 9ms/step - loss: 0.0045 - accuracy: 0.9987 - val_loss: 0.0374 - val_accuracy: 0.9924\n",
            "Epoch 39/50\n",
            "469/469 [==============================] - 5s 10ms/step - loss: 0.0057 - accuracy: 0.9982 - val_loss: 0.0387 - val_accuracy: 0.9923\n",
            "Epoch 40/50\n",
            "469/469 [==============================] - 4s 9ms/step - loss: 0.0049 - accuracy: 0.9985 - val_loss: 0.0346 - val_accuracy: 0.9938\n",
            "Epoch 41/50\n",
            "469/469 [==============================] - 4s 10ms/step - loss: 0.0037 - accuracy: 0.9987 - val_loss: 0.0348 - val_accuracy: 0.9934\n",
            "Epoch 42/50\n",
            "469/469 [==============================] - 5s 10ms/step - loss: 0.0036 - accuracy: 0.9988 - val_loss: 0.0395 - val_accuracy: 0.9930\n",
            "Epoch 43/50\n",
            "469/469 [==============================] - 5s 10ms/step - loss: 0.0041 - accuracy: 0.9987 - val_loss: 0.0419 - val_accuracy: 0.9930\n",
            "Epoch 44/50\n",
            "469/469 [==============================] - 5s 11ms/step - loss: 0.0048 - accuracy: 0.9982 - val_loss: 0.0468 - val_accuracy: 0.9925\n",
            "Epoch 45/50\n",
            "469/469 [==============================] - 4s 9ms/step - loss: 0.0053 - accuracy: 0.9982 - val_loss: 0.0380 - val_accuracy: 0.9937\n",
            "Epoch 46/50\n",
            "469/469 [==============================] - 4s 10ms/step - loss: 0.0051 - accuracy: 0.9983 - val_loss: 0.0413 - val_accuracy: 0.9925\n",
            "Epoch 47/50\n",
            "469/469 [==============================] - 5s 10ms/step - loss: 0.0043 - accuracy: 0.9987 - val_loss: 0.0414 - val_accuracy: 0.9935\n",
            "Epoch 48/50\n",
            "469/469 [==============================] - 4s 9ms/step - loss: 0.0045 - accuracy: 0.9985 - val_loss: 0.0458 - val_accuracy: 0.9926\n",
            "Epoch 49/50\n",
            "469/469 [==============================] - 6s 13ms/step - loss: 0.0042 - accuracy: 0.9985 - val_loss: 0.0372 - val_accuracy: 0.9940\n",
            "Epoch 50/50\n",
            "469/469 [==============================] - 6s 12ms/step - loss: 0.0043 - accuracy: 0.9986 - val_loss: 0.0386 - val_accuracy: 0.9937\n"
          ]
        },
        {
          "output_type": "execute_result",
          "data": {
            "text/plain": [
              "<keras.src.callbacks.History at 0x7b2bfc2f79a0>"
            ]
          },
          "metadata": {},
          "execution_count": 13
        }
      ]
    },
    {
      "cell_type": "markdown",
      "source": [
        "# Save Model"
      ],
      "metadata": {
        "id": "9HZDOc8MqodE"
      }
    },
    {
      "cell_type": "code",
      "source": [
        "model.save('HW_Digit_Recognizer.h5')\n",
        "print(\"Model has been saved\")"
      ],
      "metadata": {
        "colab": {
          "base_uri": "https://localhost:8080/"
        },
        "id": "t4yVfV5_qnwW",
        "outputId": "5f9cd756-026f-432e-cc8d-f5ca2422ec70"
      },
      "execution_count": null,
      "outputs": [
        {
          "output_type": "stream",
          "name": "stdout",
          "text": [
            "Model has been saved\n"
          ]
        },
        {
          "output_type": "stream",
          "name": "stderr",
          "text": [
            "/usr/local/lib/python3.10/dist-packages/keras/src/engine/training.py:3079: UserWarning: You are saving your model as an HDF5 file via `model.save()`. This file format is considered legacy. We recommend using instead the native Keras format, e.g. `model.save('my_model.keras')`.\n",
            "  saving_api.save_model(\n"
          ]
        }
      ]
    },
    {
      "cell_type": "markdown",
      "source": [
        "# Model Evaluation"
      ],
      "metadata": {
        "id": "7OZnF-l2ZRip"
      }
    },
    {
      "cell_type": "code",
      "source": [
        "score = model.evaluate(X_test, y_test, verbose=0)\n",
        "print(\"Test Score: \", score[0])\n",
        "print(\"Test Accuracy: \", score[1])"
      ],
      "metadata": {
        "id": "YaovLYiPwgSz",
        "colab": {
          "base_uri": "https://localhost:8080/"
        },
        "outputId": "f56fec97-2e52-4ef0-a1be-76f372c47b48"
      },
      "execution_count": null,
      "outputs": [
        {
          "output_type": "stream",
          "name": "stdout",
          "text": [
            "Test Score:  0.03855883702635765\n",
            "Test Accuracy:  0.9937000274658203\n"
          ]
        }
      ]
    }
  ]
}